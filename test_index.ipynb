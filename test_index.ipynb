{
 "cells": [
  {
   "cell_type": "code",
   "execution_count": 1,
   "id": "e37a7800",
   "metadata": {},
   "outputs": [],
   "source": [
    "from pymongo import MongoClient\n",
    "import time "
   ]
  },
  {
   "cell_type": "code",
   "execution_count": 61,
   "id": "a7723c49",
   "metadata": {},
   "outputs": [],
   "source": [
    "client = MongoClient(\"mongodb://192.168.40.162:60000\")"
   ]
  },
  {
   "cell_type": "code",
   "execution_count": 62,
   "id": "8477b547",
   "metadata": {},
   "outputs": [],
   "source": [
    "db = client.hoang_test\n",
    "collection_name = db[\"profile_staging\"]"
   ]
  },
  {
   "cell_type": "code",
   "execution_count": 63,
   "id": "5cf6b4b5",
   "metadata": {},
   "outputs": [],
   "source": [
    "item = collection_name.find({\"gender.sources.value\" : \"F\" }, \n",
    "                            {\"_id\": 0, \n",
    "                             \"dob.sources.value\": 1,\n",
    "                             \"gender.sources.value\": 1}).limit(2)"
   ]
  },
  {
   "cell_type": "code",
   "execution_count": 64,
   "id": "f4de2006",
   "metadata": {},
   "outputs": [
    {
     "name": "stdout",
     "output_type": "stream",
     "text": [
      "{'dob': {'sources': [{'value': [Decimal128('19870909')]}]}, 'gender': {'sources': [{'value': ['F']}]}}\n",
      "{'dob': {'sources': [{'value': [Decimal128('19791110')]}]}, 'gender': {'sources': [{'value': ['F']}]}}\n"
     ]
    }
   ],
   "source": [
    "a = 1\n",
    "for i in item:\n",
    "    print(i)\n",
    "    a = i"
   ]
  },
  {
   "cell_type": "code",
   "execution_count": 65,
   "id": "4cc2ab72",
   "metadata": {},
   "outputs": [
    {
     "data": {
      "text/plain": [
       "{'dob': {'sources': [{'value': [Decimal128('19791110')]}]},\n",
       " 'gender': {'sources': [{'value': ['F']}]}}"
      ]
     },
     "execution_count": 65,
     "metadata": {},
     "output_type": "execute_result"
    }
   ],
   "source": [
    "a"
   ]
  },
  {
   "cell_type": "code",
   "execution_count": 56,
   "id": "070a5bb2",
   "metadata": {},
   "outputs": [
    {
     "data": {
      "text/plain": [
       "bson.decimal128.Decimal128"
      ]
     },
     "execution_count": 56,
     "metadata": {},
     "output_type": "execute_result"
    }
   ],
   "source": [
    "type(a['dob']['sources'][0]['value'][0])"
   ]
  },
  {
   "cell_type": "code",
   "execution_count": 28,
   "id": "bcede1e8",
   "metadata": {},
   "outputs": [
    {
     "data": {
      "text/plain": [
       "[{'value': [Decimal128('19870909')], 'source': ['tax_person_new_2019_std']}]"
      ]
     },
     "execution_count": 28,
     "metadata": {},
     "output_type": "execute_result"
    }
   ],
   "source": [
    "item['dob']['sources']"
   ]
  },
  {
   "cell_type": "code",
   "execution_count": 29,
   "id": "4c352735",
   "metadata": {},
   "outputs": [
    {
     "ename": "SyntaxError",
     "evalue": "invalid syntax (<ipython-input-29-f2de5b748c89>, line 2)",
     "output_type": "error",
     "traceback": [
      "\u001b[0;36m  File \u001b[0;32m\"<ipython-input-29-f2de5b748c89>\"\u001b[0;36m, line \u001b[0;32m2\u001b[0m\n\u001b[0;31m    { $match: { \"gender.sources.value\" : \"F\" } },\u001b[0m\n\u001b[0m      ^\u001b[0m\n\u001b[0;31mSyntaxError\u001b[0m\u001b[0;31m:\u001b[0m invalid syntax\n"
     ]
    }
   ],
   "source": [
    "collection_name.aggregate([\n",
    "   { $match: { \"gender.sources.value\" : \"F\" } },\n",
    "   { $group: { _id: \"$cust_id\", total: { $sum: \"$amount\" } } }\n",
    "])"
   ]
  },
  {
   "cell_type": "code",
   "execution_count": null,
   "id": "5f4957d0",
   "metadata": {},
   "outputs": [],
   "source": [
    "resp = collection_name.create_index(\n",
    "[\n",
    "(\"dob.sources.value\", 1),\n",
    "(\"gender.sources.value\", 1)\n",
    "])\n",
    "\n",
    "print (\"index response:\", resp)"
   ]
  },
  {
   "cell_type": "code",
   "execution_count": 60,
   "id": "9ef5ccc7",
   "metadata": {},
   "outputs": [
    {
     "name": "stdout",
     "output_type": "stream",
     "text": [
      "Số lượng cpu :  12\n"
     ]
    }
   ],
   "source": [
    "import multiprocessing\n",
    "print(\"Số lượng cpu : \", multiprocessing.cpu_count())"
   ]
  },
  {
   "cell_type": "code",
   "execution_count": null,
   "id": "b8fb3ce5",
   "metadata": {},
   "outputs": [],
   "source": []
  }
 ],
 "metadata": {
  "interpreter": {
   "hash": "c650b91f6ec97e37d6d75313de70001629804ae90630060be5b676a9a175b773"
  },
  "kernelspec": {
   "display_name": "Python 3.6.9 64-bit ('testmongoshard': venv)",
   "language": "python",
   "name": "python369jvsc74a57bd0c650b91f6ec97e37d6d75313de70001629804ae90630060be5b676a9a175b773"
  },
  "language_info": {
   "codemirror_mode": {
    "name": "ipython",
    "version": 3
   },
   "file_extension": ".py",
   "mimetype": "text/x-python",
   "name": "python",
   "nbconvert_exporter": "python",
   "pygments_lexer": "ipython3",
   "version": "3.6.9"
  }
 },
 "nbformat": 4,
 "nbformat_minor": 5
}
