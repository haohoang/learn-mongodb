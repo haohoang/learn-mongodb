{
 "cells": [
  {
   "cell_type": "code",
   "execution_count": 1,
   "source": [
    "from pymongo import MongoClient\n",
    "import time \n",
    "import multiprocessing"
   ],
   "outputs": [],
   "metadata": {}
  },
  {
   "cell_type": "code",
   "execution_count": 2,
   "source": [
    "\n",
    "print(\"Số lượng cpu : \", multiprocessing.cpu_count())"
   ],
   "outputs": [
    {
     "output_type": "stream",
     "name": "stdout",
     "text": [
      "Số lượng cpu :  12\n"
     ]
    }
   ],
   "metadata": {}
  },
  {
   "cell_type": "code",
   "execution_count": 3,
   "source": [
    "client = MongoClient(\"mongodb://192.168.40.162:60000\")"
   ],
   "outputs": [],
   "metadata": {}
  },
  {
   "cell_type": "code",
   "execution_count": 4,
   "source": [
    "db = client.hoang_test\n",
    "collection_name = db[\"profile_staging\"]"
   ],
   "outputs": [],
   "metadata": {}
  },
  {
   "cell_type": "code",
   "execution_count": 5,
   "source": [
    "collection_name.find_one()"
   ],
   "outputs": [
    {
     "output_type": "execute_result",
     "data": {
      "text/plain": [
       "{'_id': 'aiwqkjTEzF2Hr5cG3sEgBg==vuong_thi_lan_anh',\n",
       " 'create_date': 1626199462,\n",
       " 'dob': {'final': [],\n",
       "  'sources': [{'value': [Decimal128('19870909')],\n",
       "    'source': ['tax_person_new_2019_std']}],\n",
       "  'meta_data': {}},\n",
       " 'gender': {'final': [],\n",
       "  'sources': [{'value': ['F'], 'source': ['tax_person_new_2019_std']}],\n",
       "  'meta_data': {}},\n",
       " 'habitual_address': None,\n",
       " 'id_card': {'final': [],\n",
       "  'sources': [{'value': [{'id_card_number': 'aiwqkjTEzF2Hr5cG3sEgBg==',\n",
       "      'id_card_loc': 'Lào Cai'}],\n",
       "    'source': ['tax_person_new_2019_std']}],\n",
       "  'meta_data': {}},\n",
       " 'last_update': 1626199462,\n",
       " 'names': {'final': [],\n",
       "  'sources': [{'value': [{'full_name': 'Vương Thị Lan Anh'}],\n",
       "    'source': ['tax_person_new_2019_std']}],\n",
       "  'meta_data': {},\n",
       "  'no_accent_name': None},\n",
       " 'no_accent_name': 'vuong_thi_lan_anh',\n",
       " 'phone_number': None,\n",
       " 'resident_address': None,\n",
       " 'social_insurance_id': None,\n",
       " 'tax_code': None,\n",
       " 'indexs': {'resident': None, 'yob': Decimal128('19870909')}}"
      ]
     },
     "metadata": {},
     "execution_count": 5
    }
   ],
   "metadata": {}
  },
  {
   "cell_type": "code",
   "execution_count": null,
   "source": [
    "items = collection_name.find({\"gender.sources.value\" : \"F\" }, \n",
    "                            {\"_id\": 0, \n",
    "                             \"dob.sources.value\": 1,\n",
    "                             \"gender.sources.value\": 1}).limit(2)"
   ],
   "outputs": [],
   "metadata": {}
  },
  {
   "cell_type": "code",
   "execution_count": null,
   "source": [
    "for item in items:\n",
    "    print(item)"
   ],
   "outputs": [
    {
     "output_type": "stream",
     "name": "stdout",
     "text": [
      "{'dob': {'sources': [{'value': [Decimal128('19870909')]}]}, 'gender': {'sources': [{'value': ['F']}]}}\n",
      "{'dob': {'sources': [{'value': [Decimal128('19791110')]}]}, 'gender': {'sources': [{'value': ['F']}]}}\n"
     ]
    }
   ],
   "metadata": {}
  },
  {
   "cell_type": "code",
   "execution_count": 20,
   "source": [
    "t1 = time.time()\n",
    "insert_result = collection_name.update_many({ \"indexs\": { '$exists': False}},\n",
    "[{\"$set\": {\"indexs\": {\"resident\": None, \"yob\": None, \"gender\": None}}}])\n",
    "print(\"Thoi gian chay: \", time.time() - t1)\n",
    "print(insert_result)"
   ],
   "outputs": [
    {
     "output_type": "stream",
     "name": "stdout",
     "text": [
      "Thoi gian chay:  1095.8782997131348\n",
      "<pymongo.results.UpdateResult object at 0x7f3564b67a00>\n"
     ]
    }
   ],
   "metadata": {}
  },
  {
   "cell_type": "code",
   "execution_count": 21,
   "source": [
    "t1 = time.time()\n",
    "insert_result = collection_name.count_documents({ \"indexs\": { '$exists': False}})\n",
    "print(\"Thoi gian chay: \", time.time() - t1)\n",
    "print(insert_result)"
   ],
   "outputs": [
    {
     "output_type": "stream",
     "name": "stdout",
     "text": [
      "Thoi gian chay:  387.53938388824463\n",
      "0\n"
     ]
    }
   ],
   "metadata": {}
  },
  {
   "cell_type": "markdown",
   "source": [
    "# Tao truong yob - Nam sinh"
   ],
   "metadata": {}
  },
  {
   "cell_type": "code",
   "execution_count": 22,
   "source": [
    "# dob not null\n",
    "t1 = time.time()\n",
    "counts = collection_name.count_documents(filter={ \"dob\": { '$ne': None}})\n",
    "print(\"Thoi gian chay: \", time.time() - t1)"
   ],
   "outputs": [
    {
     "output_type": "stream",
     "name": "stdout",
     "text": [
      "Thoi gian chay:  145.5190896987915\n"
     ]
    }
   ],
   "metadata": {}
  },
  {
   "cell_type": "code",
   "execution_count": 23,
   "source": [
    "print(counts)"
   ],
   "outputs": [
    {
     "output_type": "stream",
     "name": "stdout",
     "text": [
      "38053295\n"
     ]
    }
   ],
   "metadata": {}
  },
  {
   "cell_type": "code",
   "execution_count": 6,
   "source": [
    "collection_name.update_many({}, \n",
    "    [{\"$set\": {\"indexs.yob\": None}}])"
   ],
   "outputs": [
    {
     "output_type": "execute_result",
     "data": {
      "text/plain": [
       "<pymongo.results.UpdateResult at 0x7f1bace43700>"
      ]
     },
     "metadata": {},
     "execution_count": 6
    }
   ],
   "metadata": {}
  },
  {
   "cell_type": "code",
   "execution_count": 7,
   "source": [
    "t1 = time.time()\n",
    "counts = collection_name.update_many({ \"dob\": { '$ne': None}}, \n",
    "    [{\"$set\" :\n",
    "        {\"indexs.yob\": \n",
    "            {\"$toInt\": \n",
    "                {\"$trunc\": \n",
    "                    [{\"$divide\": \n",
    "                        [{\"$first\": { \"$first\": \"$dob.sources.value\"}}, 10000]\n",
    "                    }]\n",
    "                }\n",
    "            }\n",
    "        }\n",
    "    }]\n",
    ")\n",
    "print(\"Thoi gian chay: \", time.time() - t1)"
   ],
   "outputs": [
    {
     "output_type": "stream",
     "name": "stdout",
     "text": [
      "Thoi gian chay:  4380.383522748947\n"
     ]
    }
   ],
   "metadata": {}
  },
  {
   "cell_type": "code",
   "execution_count": 8,
   "source": [
    "counts.modified_count"
   ],
   "outputs": [
    {
     "output_type": "execute_result",
     "data": {
      "text/plain": [
       "38053295"
      ]
     },
     "metadata": {},
     "execution_count": 8
    }
   ],
   "metadata": {}
  },
  {
   "cell_type": "code",
   "execution_count": 34,
   "source": [
    "# dob null & id_card not null\n",
    "documentsDobNull = collection_name.find({\"dob\": None, }) "
   ],
   "outputs": [],
   "metadata": {}
  },
  {
   "cell_type": "code",
   "execution_count": null,
   "source": [
    "reUpdate.modified_count"
   ],
   "outputs": [],
   "metadata": {}
  },
  {
   "cell_type": "code",
   "execution_count": 6,
   "source": [
    "testDB = client.testDB\n",
    "temp = testDB['temp']"
   ],
   "outputs": [],
   "metadata": {}
  },
  {
   "cell_type": "code",
   "execution_count": 8,
   "source": [
    "temp.insert_one({'dob': {'final': [],\n",
    "  'sources': [{'value': [19870909],\n",
    "    'source': ['tax_person_new_2019_std']}],\n",
    "  'meta_data': {}}})"
   ],
   "outputs": [
    {
     "output_type": "execute_result",
     "data": {
      "text/plain": [
       "<pymongo.results.InsertOneResult at 0x7fc54ce548c0>"
      ]
     },
     "metadata": {},
     "execution_count": 8
    }
   ],
   "metadata": {}
  },
  {
   "cell_type": "code",
   "execution_count": 11,
   "source": [
    "temp.find_one()"
   ],
   "outputs": [
    {
     "output_type": "execute_result",
     "data": {
      "text/plain": [
       "{'_id': ObjectId('615515d28cf6eed7f5c934c9'),\n",
       " 'dob': {'final': [],\n",
       "  'sources': [{'value': [19870909], 'source': ['tax_person_new_2019_std']}],\n",
       "  'meta_data': {}}}"
      ]
     },
     "metadata": {},
     "execution_count": 11
    }
   ],
   "metadata": {}
  },
  {
   "cell_type": "code",
   "execution_count": 31,
   "source": [
    "re = temp.update_many({},\n",
    "    [{\"$set\": {'yob1': {'$first': {'$first': \"$dob.sources.value\"}}}}])"
   ],
   "outputs": [],
   "metadata": {}
  },
  {
   "cell_type": "code",
   "execution_count": 32,
   "source": [
    "re.modified_count"
   ],
   "outputs": [
    {
     "output_type": "execute_result",
     "data": {
      "text/plain": [
       "1"
      ]
     },
     "metadata": {},
     "execution_count": 32
    }
   ],
   "metadata": {}
  },
  {
   "cell_type": "code",
   "execution_count": 33,
   "source": [
    "temp.find_one()"
   ],
   "outputs": [
    {
     "output_type": "execute_result",
     "data": {
      "text/plain": [
       "{'_id': ObjectId('615515d28cf6eed7f5c934c9'),\n",
       " 'dob': {'final': [],\n",
       "  'sources': [{'value': [19870909], 'source': ['tax_person_new_2019_std']}],\n",
       "  'meta_data': {}},\n",
       " 'yob': 19870909,\n",
       " 'yob1': 19870909}"
      ]
     },
     "metadata": {},
     "execution_count": 33
    }
   ],
   "metadata": {}
  },
  {
   "cell_type": "code",
   "execution_count": null,
   "source": [],
   "outputs": [],
   "metadata": {}
  },
  {
   "cell_type": "code",
   "execution_count": null,
   "source": [],
   "outputs": [],
   "metadata": {}
  },
  {
   "cell_type": "code",
   "execution_count": null,
   "source": [
    "document_ids = collection_name.find({}, {\"_id\":1}).distinct('_id') #list of all ids"
   ],
   "outputs": [],
   "metadata": {}
  },
  {
   "cell_type": "code",
   "execution_count": null,
   "source": [],
   "outputs": [],
   "metadata": {}
  },
  {
   "cell_type": "markdown",
   "source": [
    "# Tao truong gender"
   ],
   "metadata": {}
  },
  {
   "cell_type": "code",
   "execution_count": 33,
   "source": [
    "t1 = time.time()\n",
    "reUpdateGender = collection_name.update_many({ \"gender\": { '$ne': None}}, \n",
    "    [{\"$set\" :\n",
    "        {\"indexs.gender\": {\n",
    "             \"$cond\": { \"if\": { \"$eq\": [\"$gender.sources.value\", \"M\"] }, \"then\": 1, \"else\": 0 }\n",
    "        }\n",
    "        }\n",
    "    }]\n",
    ")\n",
    "print(\"Thoi gian chay: \", (time.time() - t1)/60)"
   ],
   "outputs": [
    {
     "output_type": "stream",
     "name": "stdout",
     "text": [
      "Thoi gian chay:  73.61827255090078\n"
     ]
    }
   ],
   "metadata": {}
  },
  {
   "cell_type": "code",
   "execution_count": null,
   "source": [
    "print(reUpdateGender)"
   ],
   "outputs": [],
   "metadata": {}
  },
  {
   "cell_type": "code",
   "execution_count": 10,
   "source": [
    "testDB = client.testDB\n",
    "temp = testDB['temp']"
   ],
   "outputs": [],
   "metadata": {}
  },
  {
   "cell_type": "code",
   "execution_count": 29,
   "source": [
    "t1 = time.time()\n",
    "reUpdateGender = temp.update_many({}, \n",
    "    [{\"$set\" :\n",
    "        {\"indexs.gender2\": {\n",
    "            \"$cond\": { \"if\": { \"$eq\": [\"$gender.sources.value\", \"M\"] }, \"then\": 1, \"else\": 0 }\n",
    "        }\n",
    "        }\n",
    "    }]\n",
    ")\n",
    "print(\"Thoi gian chay: \", (time.time() - t1)/60)"
   ],
   "outputs": [
    {
     "output_type": "stream",
     "name": "stdout",
     "text": [
      "Thoi gian chay:  3.2571951548258465e-05\n"
     ]
    }
   ],
   "metadata": {}
  },
  {
   "cell_type": "code",
   "execution_count": 13,
   "source": [
    "temp.update_many({}, \n",
    "    [{\"$set\":\n",
    "    {\n",
    "\n",
    "         'gender': {\n",
    "            'sources': [{'value': ['F'], 'source': ['tax_person_new_2019_std']}],\n",
    "        }\n",
    "    } \n",
    "    }]\n",
    ")"
   ],
   "outputs": [
    {
     "output_type": "execute_result",
     "data": {
      "text/plain": [
       "<pymongo.results.UpdateResult at 0x7f1b95c5c900>"
      ]
     },
     "metadata": {},
     "execution_count": 13
    }
   ],
   "metadata": {}
  },
  {
   "cell_type": "code",
   "execution_count": 30,
   "source": [
    "temp.find_one()"
   ],
   "outputs": [
    {
     "output_type": "execute_result",
     "data": {
      "text/plain": [
       "{'_id': ObjectId('615515d28cf6eed7f5c934c9'),\n",
       " 'dob': {'final': [],\n",
       "  'sources': [{'value': [19870909], 'source': ['tax_person_new_2019_std']}],\n",
       "  'meta_data': {}},\n",
       " 'yob': 19870909,\n",
       " 'yob1': 19870909,\n",
       " 'id_card': {'final': [],\n",
       "  'sources': [{'value': [{'id_card_number': 'aiwqkjTEzF2Hr5cG3sEgBg==',\n",
       "      'id_card_loc': 'Lào Cai'}],\n",
       "    'source': ['tax_person_new_2019_std']}]},\n",
       " 'cmt': 'error! java.lang.Exception: Illegal base64 character 24',\n",
       " 'indexs': {'yob': 1987,\n",
       "  'yob1': 1987,\n",
       "  'gender': 0,\n",
       "  'gender1': 0,\n",
       "  'gender2': 0},\n",
       " 'cmt1': 'aiwqkjTEzF2Hr5cG3sEgBg==',\n",
       " 'cmt2': 'error! java.lang.Exception: Illegal base64 character 24',\n",
       " 'test_value': 'just testing .. 1',\n",
       " 'gender': {'sources': [{'value': ['F'],\n",
       "    'source': ['tax_person_new_2019_std']}]}}"
      ]
     },
     "metadata": {},
     "execution_count": 30
    }
   ],
   "metadata": {}
  },
  {
   "cell_type": "code",
   "execution_count": 32,
   "source": [
    "collection_name.find_one({\"dob\": {\"$ne\": None}})"
   ],
   "outputs": [
    {
     "output_type": "execute_result",
     "data": {
      "text/plain": [
       "{'_id': 'oinyE6ArLFYS0g9cU24W6w==vu_thi_thu',\n",
       " 'create_date': 1626199462,\n",
       " 'dob': {'final': [],\n",
       "  'sources': [{'value': [Decimal128('19910702')],\n",
       "    'source': ['tax_person_new_2019_std']}],\n",
       "  'meta_data': {}},\n",
       " 'gender': {'final': [],\n",
       "  'sources': [{'value': ['F'], 'source': ['tax_person_new_2019_std']}],\n",
       "  'meta_data': {}},\n",
       " 'habitual_address': None,\n",
       " 'id_card': {'final': [],\n",
       "  'sources': [{'value': [{'id_card_number': 'oinyE6ArLFYS0g9cU24W6w==',\n",
       "      'id_card_loc': 'Namdinh'}],\n",
       "    'source': ['tax_person_new_2019_std']}],\n",
       "  'meta_data': {}},\n",
       " 'last_update': 1626199462,\n",
       " 'names': {'final': [],\n",
       "  'sources': [{'value': [{'full_name': 'Vũ Thị Thu'}],\n",
       "    'source': ['tax_person_new_2019_std']}],\n",
       "  'meta_data': {},\n",
       "  'no_accent_name': None},\n",
       " 'no_accent_name': 'vu_thi_thu',\n",
       " 'phone_number': None,\n",
       " 'resident_address': None,\n",
       " 'social_insurance_id': None,\n",
       " 'tax_code': None,\n",
       " 'indexs': {'resident': None, 'yob': 1991}}"
      ]
     },
     "metadata": {},
     "execution_count": 32
    }
   ],
   "metadata": {}
  },
  {
   "cell_type": "code",
   "execution_count": null,
   "source": [],
   "outputs": [],
   "metadata": {}
  }
 ],
 "metadata": {
  "interpreter": {
   "hash": "f59771847347d18268e7cd2371631545f942b9f9d7b8872cef9de3a3b8d88ccb"
  },
  "kernelspec": {
   "name": "python3",
   "display_name": "Python 3.8.8 64-bit ('base': conda)"
  },
  "language_info": {
   "codemirror_mode": {
    "name": "ipython",
    "version": 3
   },
   "file_extension": ".py",
   "mimetype": "text/x-python",
   "name": "python",
   "nbconvert_exporter": "python",
   "pygments_lexer": "ipython3",
   "version": "3.8.8"
  }
 },
 "nbformat": 4,
 "nbformat_minor": 5
}